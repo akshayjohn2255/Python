{
  "nbformat": 4,
  "nbformat_minor": 0,
  "metadata": {
    "colab": {
      "name": "Untitled9.ipynb",
      "provenance": []
    },
    "kernelspec": {
      "name": "python3",
      "display_name": "Python 3"
    }
  },
  "cells": [
    {
      "cell_type": "markdown",
      "metadata": {
        "id": "YLD3TOAu1A5b"
      },
      "source": [
        "Write a program to demonstrate basic data type in python\r\n",
        "\"Hello, World!\" Program"
      ]
    },
    {
      "cell_type": "code",
      "metadata": {
        "colab": {
          "base_uri": "https://localhost:8080/"
        },
        "id": "zhgy_4lwqBge",
        "outputId": "9f0c667d-5924-4684-f628-4195a9e2168f"
      },
      "source": [
        "print(\"hello world\")"
      ],
      "execution_count": 47,
      "outputs": [
        {
          "output_type": "stream",
          "text": [
            "hello world\n"
          ],
          "name": "stdout"
        }
      ]
    },
    {
      "cell_type": "markdown",
      "metadata": {
        "id": "1jvZP1Wj0Wbm"
      },
      "source": [
        "Program to Print an Integer (Entered by the User)"
      ]
    },
    {
      "cell_type": "code",
      "metadata": {
        "colab": {
          "base_uri": "https://localhost:8080/"
        },
        "id": "YTF7CxppqRHf",
        "outputId": "059a7122-d04b-4749-cfb8-37958f6b258b"
      },
      "source": [
        "int(input(\"enter a number \"))"
      ],
      "execution_count": 4,
      "outputs": [
        {
          "output_type": "stream",
          "text": [
            "enter a number 10\n"
          ],
          "name": "stdout"
        },
        {
          "output_type": "execute_result",
          "data": {
            "text/plain": [
              "10"
            ]
          },
          "metadata": {
            "tags": []
          },
          "execution_count": 4
        }
      ]
    },
    {
      "cell_type": "markdown",
      "metadata": {
        "id": "vaBSkfhF0eDe"
      },
      "source": [
        "Program to Add Two Integers"
      ]
    },
    {
      "cell_type": "code",
      "metadata": {
        "colab": {
          "base_uri": "https://localhost:8080/"
        },
        "id": "9bJVn_7ZqmJw",
        "outputId": "09094251-8eee-4a22-ca95-e4437a4d8e71"
      },
      "source": [
        "x=int(input(\"enter 1 st number \"))\r\n",
        "y=int(input(\"enter 2nd no \"))\r\n",
        "z=x+y\r\n",
        "z"
      ],
      "execution_count": 18,
      "outputs": [
        {
          "output_type": "stream",
          "text": [
            "enter 1 st number 5\n",
            "enter 2nd no 5\n"
          ],
          "name": "stdout"
        },
        {
          "output_type": "execute_result",
          "data": {
            "text/plain": [
              "10"
            ]
          },
          "metadata": {
            "tags": []
          },
          "execution_count": 18
        }
      ]
    },
    {
      "cell_type": "markdown",
      "metadata": {
        "id": "oH_t1_TN0kTQ"
      },
      "source": [
        "Program to Multiply Two Floating-Point Numbers"
      ]
    },
    {
      "cell_type": "code",
      "metadata": {
        "colab": {
          "base_uri": "https://localhost:8080/"
        },
        "id": "yg1OWy5nq34D",
        "outputId": "e723af6f-6c5f-408c-bef7-7a001d670aa8"
      },
      "source": [
        "x=float(input(\"enter 1 st number \"))\r\n",
        "y=float(input(\"enter 1 st number \"))\r\n",
        "z=x*y\r\n",
        "float(z)"
      ],
      "execution_count": 14,
      "outputs": [
        {
          "output_type": "stream",
          "text": [
            "enter 1 st number 2.5\n",
            "enter 1 st number 1.5\n"
          ],
          "name": "stdout"
        },
        {
          "output_type": "execute_result",
          "data": {
            "text/plain": [
              "3.75"
            ]
          },
          "metadata": {
            "tags": []
          },
          "execution_count": 14
        }
      ]
    },
    {
      "cell_type": "markdown",
      "metadata": {
        "id": "LuShAGVv0o4F"
      },
      "source": [
        "Program to Compute Quotient and Remainder"
      ]
    },
    {
      "cell_type": "code",
      "metadata": {
        "colab": {
          "base_uri": "https://localhost:8080/"
        },
        "id": "_yDuenJgrmex",
        "outputId": "38d5b8f1-8b09-49f6-99a1-74f6514ec68c"
      },
      "source": [
        "\r\n",
        "a = int(input(\"Enter the first number: \"))\r\n",
        "b = int(input(\"Enter the second number: \"))\r\n",
        "quotient = a//b\r\n",
        "remainder = a%b\r\n",
        "print(\"Quotient is\", quotient)\r\n",
        "print(\"Remainder is:\", remainder)"
      ],
      "execution_count": 33,
      "outputs": [
        {
          "output_type": "stream",
          "text": [
            "Enter the first number: 45\n",
            "Enter the second number: 4\n",
            "Quotient is 11\n",
            "Remainder is: 1\n"
          ],
          "name": "stdout"
        }
      ]
    },
    {
      "cell_type": "markdown",
      "metadata": {
        "id": "7j-GnMEN0te-"
      },
      "source": [
        "Program to Swap Two Numbers"
      ]
    },
    {
      "cell_type": "code",
      "metadata": {
        "colab": {
          "base_uri": "https://localhost:8080/"
        },
        "id": "BsJMwFXAtYHI",
        "outputId": "d273e3bb-24c4-49af-fb86-ef3f5df80379"
      },
      "source": [
        "\r\n",
        "x = input('Enter value of x: ')\r\n",
        "y = input('Enter value of y: ')\r\n",
        "temp = x\r\n",
        "x = y\r\n",
        "y = temp\r\n",
        "print('The value of x after swapping: {}'.format(x))\r\n",
        "print('The value of y after swapping: {}'.format(y))"
      ],
      "execution_count": 40,
      "outputs": [
        {
          "output_type": "stream",
          "text": [
            "Enter value of x: 55\n",
            "Enter value of y: 45\n",
            "The value of x after swapping: 45\n",
            "The value of y after swapping: 55\n"
          ],
          "name": "stdout"
        }
      ]
    },
    {
      "cell_type": "markdown",
      "metadata": {
        "id": "VcIDt2-y0x-Q"
      },
      "source": [
        "Program to Check Whether a Number is Even or Odd"
      ]
    },
    {
      "cell_type": "code",
      "metadata": {
        "colab": {
          "base_uri": "https://localhost:8080/"
        },
        "id": "xYdfoFK1vpR_",
        "outputId": "19f71fdc-9e2c-4ada-c746-0ebe60737637"
      },
      "source": [
        "p=int(input('enter a value: '))\r\n",
        "if p%2==0:\r\n",
        "  print(\"its a even number\")\r\n",
        "else:\r\n",
        "  print('its is a odd number')"
      ],
      "execution_count": 43,
      "outputs": [
        {
          "output_type": "stream",
          "text": [
            "enter a value: 4\n",
            "its a even number\n"
          ],
          "name": "stdout"
        }
      ]
    },
    {
      "cell_type": "markdown",
      "metadata": {
        "id": "AzvBbtP302ik"
      },
      "source": [
        "Program to Check Whether a Character is a Vowel or Consonant"
      ]
    },
    {
      "cell_type": "code",
      "metadata": {
        "colab": {
          "base_uri": "https://localhost:8080/"
        },
        "id": "v9fnUTP_w7R4",
        "outputId": "a01daf8d-1a87-48af-c909-c2c5f958403f"
      },
      "source": [
        "x = input(\"Enter a character: \")\r\n",
        "\r\n",
        "if(x=='A' or x=='a' or x=='E' or x =='e' or x=='I'\r\n",
        " or x=='i' or x=='O' or x=='o' or x=='U' or x=='u'):\r\n",
        "    print(x, \"is a Vowel\")\r\n",
        "else:\r\n",
        "    print(x, \"is a Consonant\")"
      ],
      "execution_count": 46,
      "outputs": [
        {
          "output_type": "stream",
          "text": [
            "Enter a character: a\n",
            "a is a Vowel\n"
          ],
          "name": "stdout"
        }
      ]
    },
    {
      "cell_type": "code",
      "metadata": {
        "id": "jIGOredJxn3h"
      },
      "source": [
        ""
      ],
      "execution_count": null,
      "outputs": []
    }
  ]
}